{
 "cells": [
  {
   "cell_type": "markdown",
   "metadata": {},
   "source": [
    "First Data Exploration"
   ]
  },
  {
   "cell_type": "markdown",
   "metadata": {},
   "source": [
    "This notebook performs the first explorations and transformations on the feature and target datasets. First, we start importing the CSV files from the parent directory. This is done to avoid the proliferation of large CSV files throught the whole repo. "
   ]
  },
  {
   "cell_type": "code",
   "execution_count": 3,
   "metadata": {},
   "outputs": [
    {
     "name": "stdout",
     "output_type": "stream",
     "text": [
      "c:\\ProgramData\\anaconda3\\python.exe\n"
     ]
    }
   ],
   "source": [
    "import sys\n",
    "print(sys.executable)"
   ]
  },
  {
   "cell_type": "code",
   "execution_count": 26,
   "metadata": {},
   "outputs": [
    {
     "data": {
      "text/html": [
       "<div>\n",
       "<style scoped>\n",
       "    .dataframe tbody tr th:only-of-type {\n",
       "        vertical-align: middle;\n",
       "    }\n",
       "\n",
       "    .dataframe tbody tr th {\n",
       "        vertical-align: top;\n",
       "    }\n",
       "\n",
       "    .dataframe thead th {\n",
       "        text-align: right;\n",
       "    }\n",
       "</style>\n",
       "<table border=\"1\" class=\"dataframe\">\n",
       "  <thead>\n",
       "    <tr style=\"text-align: right;\">\n",
       "      <th></th>\n",
       "      <th>designation</th>\n",
       "      <th>description</th>\n",
       "      <th>productid</th>\n",
       "      <th>imageid</th>\n",
       "    </tr>\n",
       "  </thead>\n",
       "  <tbody>\n",
       "    <tr>\n",
       "      <th>0</th>\n",
       "      <td>Olivia: Personalisiertes Notizbuch / 150 Seite...</td>\n",
       "      <td>NaN</td>\n",
       "      <td>3804725264</td>\n",
       "      <td>1263597046</td>\n",
       "    </tr>\n",
       "    <tr>\n",
       "      <th>1</th>\n",
       "      <td>Journal Des Arts (Le) N° 133 Du 28/09/2001 - L...</td>\n",
       "      <td>NaN</td>\n",
       "      <td>436067568</td>\n",
       "      <td>1008141237</td>\n",
       "    </tr>\n",
       "    <tr>\n",
       "      <th>2</th>\n",
       "      <td>Grand Stylet Ergonomique Bleu Gamepad Nintendo...</td>\n",
       "      <td>PILOT STYLE Touch Pen de marque Speedlink est ...</td>\n",
       "      <td>201115110</td>\n",
       "      <td>938777978</td>\n",
       "    </tr>\n",
       "    <tr>\n",
       "      <th>3</th>\n",
       "      <td>Peluche Donald - Europe - Disneyland 2000 (Mar...</td>\n",
       "      <td>NaN</td>\n",
       "      <td>50418756</td>\n",
       "      <td>457047496</td>\n",
       "    </tr>\n",
       "    <tr>\n",
       "      <th>4</th>\n",
       "      <td>La Guerre Des Tuques</td>\n",
       "      <td>Luc a des id&amp;eacute;es de grandeur. Il veut or...</td>\n",
       "      <td>278535884</td>\n",
       "      <td>1077757786</td>\n",
       "    </tr>\n",
       "  </tbody>\n",
       "</table>\n",
       "</div>"
      ],
      "text/plain": [
       "                                         designation  \\\n",
       "0  Olivia: Personalisiertes Notizbuch / 150 Seite...   \n",
       "1  Journal Des Arts (Le) N° 133 Du 28/09/2001 - L...   \n",
       "2  Grand Stylet Ergonomique Bleu Gamepad Nintendo...   \n",
       "3  Peluche Donald - Europe - Disneyland 2000 (Mar...   \n",
       "4                               La Guerre Des Tuques   \n",
       "\n",
       "                                         description   productid     imageid  \n",
       "0                                                NaN  3804725264  1263597046  \n",
       "1                                                NaN   436067568  1008141237  \n",
       "2  PILOT STYLE Touch Pen de marque Speedlink est ...   201115110   938777978  \n",
       "3                                                NaN    50418756   457047496  \n",
       "4  Luc a des id&eacute;es de grandeur. Il veut or...   278535884  1077757786  "
      ]
     },
     "metadata": {},
     "output_type": "display_data"
    },
    {
     "data": {
      "text/html": [
       "<div>\n",
       "<style scoped>\n",
       "    .dataframe tbody tr th:only-of-type {\n",
       "        vertical-align: middle;\n",
       "    }\n",
       "\n",
       "    .dataframe tbody tr th {\n",
       "        vertical-align: top;\n",
       "    }\n",
       "\n",
       "    .dataframe thead th {\n",
       "        text-align: right;\n",
       "    }\n",
       "</style>\n",
       "<table border=\"1\" class=\"dataframe\">\n",
       "  <thead>\n",
       "    <tr style=\"text-align: right;\">\n",
       "      <th></th>\n",
       "      <th>prdtypecode</th>\n",
       "    </tr>\n",
       "  </thead>\n",
       "  <tbody>\n",
       "    <tr>\n",
       "      <th>0</th>\n",
       "      <td>10</td>\n",
       "    </tr>\n",
       "    <tr>\n",
       "      <th>1</th>\n",
       "      <td>2280</td>\n",
       "    </tr>\n",
       "    <tr>\n",
       "      <th>2</th>\n",
       "      <td>50</td>\n",
       "    </tr>\n",
       "    <tr>\n",
       "      <th>3</th>\n",
       "      <td>1280</td>\n",
       "    </tr>\n",
       "    <tr>\n",
       "      <th>4</th>\n",
       "      <td>2705</td>\n",
       "    </tr>\n",
       "  </tbody>\n",
       "</table>\n",
       "</div>"
      ],
      "text/plain": [
       "   prdtypecode\n",
       "0           10\n",
       "1         2280\n",
       "2           50\n",
       "3         1280\n",
       "4         2705"
      ]
     },
     "metadata": {},
     "output_type": "display_data"
    }
   ],
   "source": [
    "import pandas as pd\n",
    "import os\n",
    "\n",
    "# Get the path of the current script and its parent directory\n",
    "current_dir = os.getcwd() #os.path.dirname(__file__)\n",
    "parent_dir = os.path.abspath(os.path.join(current_dir, os.pardir))\n",
    "\n",
    "# Construct the full path to the CSV files\n",
    "csv_path_X = os.path.join(parent_dir, 'X_train_update.csv')\n",
    "csv_path_Y = os.path.join(parent_dir, 'Y_train_CVw08PX.csv')\n",
    "\n",
    "# Read the CSV file into the DataFrames\n",
    "dfX = pd.read_csv(csv_path_X, index_col=0)\n",
    "dfY = pd.read_csv(csv_path_Y, index_col=0)\n",
    "\n",
    "# Display the DataFrames\n",
    "display(dfX.head())\n",
    "display(dfY.head())\n"
   ]
  },
  {
   "cell_type": "markdown",
   "metadata": {},
   "source": [
    "Then we characterize the features dataset dfX looking for data types, missing values, etc. "
   ]
  },
  {
   "cell_type": "code",
   "execution_count": 27,
   "metadata": {},
   "outputs": [
    {
     "name": "stdout",
     "output_type": "stream",
     "text": [
      "<class 'pandas.core.frame.DataFrame'>\n",
      "Int64Index: 84916 entries, 0 to 84915\n",
      "Data columns (total 4 columns):\n",
      " #   Column       Non-Null Count  Dtype \n",
      "---  ------       --------------  ----- \n",
      " 0   designation  84916 non-null  object\n",
      " 1   description  55116 non-null  object\n",
      " 2   productid    84916 non-null  int64 \n",
      " 3   imageid      84916 non-null  int64 \n",
      "dtypes: int64(2), object(2)\n",
      "memory usage: 3.2+ MB\n",
      "Duplicates: \n",
      "0\n",
      "Missing values: \n",
      "designation        0\n",
      "description    29800\n",
      "productid          0\n",
      "imageid            0\n",
      "dtype: int64\n"
     ]
    }
   ],
   "source": [
    "dfX.info()\n",
    "print(\"Duplicates: \")\n",
    "print(dfX.duplicated().sum())\n",
    "print(\"Missing values: \")\n",
    "print(dfX.isna().sum())"
   ]
  },
  {
   "cell_type": "markdown",
   "metadata": {},
   "source": [
    "There are no duplicates, but since there are missing values in the field \"description\", first we replace all the missing values with an empty array \"\", and then we concatenate the fields \"deisgnation\" and \"description\". "
   ]
  },
  {
   "cell_type": "code",
   "execution_count": 28,
   "metadata": {},
   "outputs": [
    {
     "name": "stdout",
     "output_type": "stream",
     "text": [
      "Designation/Description concatenation. \n",
      "Concatenation done.\n",
      "New characteristic of the features DataFrame: \n",
      "<class 'pandas.core.frame.DataFrame'>\n",
      "Int64Index: 84916 entries, 0 to 84915\n",
      "Data columns (total 5 columns):\n",
      " #   Column          Non-Null Count  Dtype \n",
      "---  ------          --------------  ----- \n",
      " 0   designation     84916 non-null  object\n",
      " 1   description     55116 non-null  object\n",
      " 2   productid       84916 non-null  int64 \n",
      " 3   imageid         84916 non-null  int64 \n",
      " 4   design_descrip  84916 non-null  object\n",
      "dtypes: int64(2), object(3)\n",
      "memory usage: 3.9+ MB\n"
     ]
    }
   ],
   "source": [
    "dfX.designation.fillna(\"\")\n",
    "design_descript = []\n",
    "print(\"Designation/Description concatenation. \")\n",
    "for i in range(dfX.shape[0]):\n",
    "    #print(i,df_sample_designation.iloc[i],df_sample_description.iloc[i])\n",
    "    design_descript.append(\n",
    "        str(dfX.designation.iloc[i]) + \" \" + \n",
    "        str(dfX.description.iloc[i])\n",
    "    )\n",
    "dfX[\"design_descrip\"] = pd.Series(design_descript)\n",
    "print(\"Concatenation done.\")\n",
    "print(\"New characteristic of the features DataFrame: \")\n",
    "dfX.info()"
   ]
  },
  {
   "cell_type": "markdown",
   "metadata": {},
   "source": [
    "Regarding the target DataFrame, we have the following information: "
   ]
  },
  {
   "cell_type": "code",
   "execution_count": 29,
   "metadata": {},
   "outputs": [
    {
     "name": "stdout",
     "output_type": "stream",
     "text": [
      "<class 'pandas.core.frame.DataFrame'>\n",
      "Int64Index: 84916 entries, 0 to 84915\n",
      "Data columns (total 1 columns):\n",
      " #   Column       Non-Null Count  Dtype\n",
      "---  ------       --------------  -----\n",
      " 0   prdtypecode  84916 non-null  int64\n",
      "dtypes: int64(1)\n",
      "memory usage: 1.3 MB\n",
      "Duplicates: \n",
      "84889\n",
      "Missing values: \n",
      "prdtypecode    0\n",
      "dtype: int64\n"
     ]
    }
   ],
   "source": [
    "dfY.info()\n",
    "print(\"Duplicates: \")\n",
    "print(dfY.duplicated().sum())\n",
    "print(\"Missing values: \")\n",
    "print(dfY.isna().sum())"
   ]
  },
  {
   "cell_type": "markdown",
   "metadata": {},
   "source": [
    "No missing values and no duplicates, ideal for a preliminary characterization counting the number of modalities of the target \"prdtypecode\" and with a count bar plot. "
   ]
  },
  {
   "cell_type": "code",
   "execution_count": 30,
   "metadata": {},
   "outputs": [
    {
     "name": "stdout",
     "output_type": "stream",
     "text": [
      "Modalities and count for each one: \n"
     ]
    },
    {
     "data": {
      "text/plain": [
       "2583    10209\n",
       "1560     5073\n",
       "1300     5045\n",
       "2060     4993\n",
       "2522     4989\n",
       "1280     4870\n",
       "2403     4774\n",
       "2280     4760\n",
       "1920     4303\n",
       "1160     3953\n",
       "1320     3241\n",
       "10       3116\n",
       "2705     2761\n",
       "1140     2671\n",
       "2582     2589\n",
       "40       2508\n",
       "2585     2496\n",
       "1302     2491\n",
       "1281     2070\n",
       "50       1681\n",
       "2462     1421\n",
       "2905      872\n",
       "60        832\n",
       "2220      824\n",
       "1301      807\n",
       "1940      803\n",
       "1180      764\n",
       "Name: prdtypecode, dtype: int64"
      ]
     },
     "metadata": {},
     "output_type": "display_data"
    },
    {
     "name": "stdout",
     "output_type": "stream",
     "text": [
      "Modalities and percentage of total for each one: \n",
      "2583    12.022469\n",
      "1560     5.974139\n",
      "1300     5.941165\n",
      "2060     5.879928\n",
      "2522     5.875218\n",
      "1280     5.735079\n",
      "2403     5.622026\n",
      "2280     5.605540\n",
      "1920     5.067361\n",
      "1160     4.655189\n",
      "1320     3.816713\n",
      "10       3.669509\n",
      "2705     3.251448\n",
      "1140     3.145461\n",
      "2582     3.048895\n",
      "40       2.953507\n",
      "2585     2.939375\n",
      "1302     2.933487\n",
      "1281     2.437703\n",
      "50       1.979603\n",
      "2462     1.673418\n",
      "2905     1.026897\n",
      "60       0.979792\n",
      "2220     0.970371\n",
      "1301     0.950351\n",
      "1940     0.945640\n",
      "1180     0.899713\n",
      "Name: prdtypecode, dtype: float64\n"
     ]
    },
    {
     "data": {
      "text/plain": [
       "<Axes: >"
      ]
     },
     "execution_count": 30,
     "metadata": {},
     "output_type": "execute_result"
    },
    {
     "data": {
      "image/png": "[encoded data removed]",
      "text/plain": [
       "<Figure size 640x480 with 1 Axes>"
      ]
     },
     "metadata": {},
     "output_type": "display_data"
    }
   ],
   "source": [
    "print(\"Modalities and count for each one: \")\n",
    "display(dfY.prdtypecode.value_counts())\n",
    "print(\"Modalities and percentage of total for each one: \")\n",
    "print(100*dfY.prdtypecode.value_counts(normalize=True))\n",
    "dfY.prdtypecode.value_counts().plot(kind='barh')"
   ]
  },
  {
   "cell_type": "markdown",
   "metadata": {},
   "source": [
    "The dataset is strongly disbalanced. This will be taken into account for further analyses. We finish with the elimination of feature \"description\" from the DataFrame dfX and the column concatenation of dfX and dfY to obtain a new unified DataFrame dfXY exported to the file Xy_train.csv"
   ]
  },
  {
   "cell_type": "code",
   "execution_count": 31,
   "metadata": {},
   "outputs": [
    {
     "data": {
      "text/html": [
       "<div>\n",
       "<style scoped>\n",
       "    .dataframe tbody tr th:only-of-type {\n",
       "        vertical-align: middle;\n",
       "    }\n",
       "\n",
       "    .dataframe tbody tr th {\n",
       "        vertical-align: top;\n",
       "    }\n",
       "\n",
       "    .dataframe thead th {\n",
       "        text-align: right;\n",
       "    }\n",
       "</style>\n",
       "<table border=\"1\" class=\"dataframe\">\n",
       "  <thead>\n",
       "    <tr style=\"text-align: right;\">\n",
       "      <th></th>\n",
       "      <th>designation</th>\n",
       "      <th>productid</th>\n",
       "      <th>imageid</th>\n",
       "      <th>design_descrip</th>\n",
       "      <th>prdtypecode</th>\n",
       "    </tr>\n",
       "  </thead>\n",
       "  <tbody>\n",
       "    <tr>\n",
       "      <th>0</th>\n",
       "      <td>Olivia: Personalisiertes Notizbuch / 150 Seite...</td>\n",
       "      <td>3804725264</td>\n",
       "      <td>1263597046</td>\n",
       "      <td>Olivia: Personalisiertes Notizbuch / 150 Seite...</td>\n",
       "      <td>10</td>\n",
       "    </tr>\n",
       "    <tr>\n",
       "      <th>1</th>\n",
       "      <td>Journal Des Arts (Le) N° 133 Du 28/09/2001 - L...</td>\n",
       "      <td>436067568</td>\n",
       "      <td>1008141237</td>\n",
       "      <td>Journal Des Arts (Le) N° 133 Du 28/09/2001 - L...</td>\n",
       "      <td>2280</td>\n",
       "    </tr>\n",
       "    <tr>\n",
       "      <th>2</th>\n",
       "      <td>Grand Stylet Ergonomique Bleu Gamepad Nintendo...</td>\n",
       "      <td>201115110</td>\n",
       "      <td>938777978</td>\n",
       "      <td>Grand Stylet Ergonomique Bleu Gamepad Nintendo...</td>\n",
       "      <td>50</td>\n",
       "    </tr>\n",
       "    <tr>\n",
       "      <th>3</th>\n",
       "      <td>Peluche Donald - Europe - Disneyland 2000 (Mar...</td>\n",
       "      <td>50418756</td>\n",
       "      <td>457047496</td>\n",
       "      <td>Peluche Donald - Europe - Disneyland 2000 (Mar...</td>\n",
       "      <td>1280</td>\n",
       "    </tr>\n",
       "    <tr>\n",
       "      <th>4</th>\n",
       "      <td>La Guerre Des Tuques</td>\n",
       "      <td>278535884</td>\n",
       "      <td>1077757786</td>\n",
       "      <td>La Guerre Des Tuques Luc a des id&amp;eacute;es de...</td>\n",
       "      <td>2705</td>\n",
       "    </tr>\n",
       "  </tbody>\n",
       "</table>\n",
       "</div>"
      ],
      "text/plain": [
       "                                         designation   productid     imageid  \\\n",
       "0  Olivia: Personalisiertes Notizbuch / 150 Seite...  3804725264  1263597046   \n",
       "1  Journal Des Arts (Le) N° 133 Du 28/09/2001 - L...   436067568  1008141237   \n",
       "2  Grand Stylet Ergonomique Bleu Gamepad Nintendo...   201115110   938777978   \n",
       "3  Peluche Donald - Europe - Disneyland 2000 (Mar...    50418756   457047496   \n",
       "4                               La Guerre Des Tuques   278535884  1077757786   \n",
       "\n",
       "                                      design_descrip  prdtypecode  \n",
       "0  Olivia: Personalisiertes Notizbuch / 150 Seite...           10  \n",
       "1  Journal Des Arts (Le) N° 133 Du 28/09/2001 - L...         2280  \n",
       "2  Grand Stylet Ergonomique Bleu Gamepad Nintendo...           50  \n",
       "3  Peluche Donald - Europe - Disneyland 2000 (Mar...         1280  \n",
       "4  La Guerre Des Tuques Luc a des id&eacute;es de...         2705  "
      ]
     },
     "metadata": {},
     "output_type": "display_data"
    }
   ],
   "source": [
    "dfX = dfX.drop([\"description\"],axis=1)\n",
    "dfXY = pd.concat([dfX,dfY],axis=1)\n",
    "display(dfXY.head())"
   ]
  },
  {
   "cell_type": "code",
   "execution_count": null,
   "metadata": {},
   "outputs": [],
   "source": []
  }
 ],
 "metadata": {
  "kernelspec": {
   "display_name": "Python 3",
   "language": "python",
   "name": "python3"
  },
  "language_info": {
   "codemirror_mode": {
    "name": "ipython",
    "version": 3
   },
   "file_extension": ".py",
   "mimetype": "text/x-python",
   "name": "python",
   "nbconvert_exporter": "python",
   "pygments_lexer": "ipython3",
   "version": "3.10.9"
  }
 },
 "nbformat": 4,
 "nbformat_minor": 2
}
